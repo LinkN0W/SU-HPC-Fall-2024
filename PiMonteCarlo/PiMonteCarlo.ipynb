{
  "nbformat": 4,
  "nbformat_minor": 0,
  "metadata": {
    "colab": {
      "provenance": [],
      "gpuType": "T4"
    },
    "kernelspec": {
      "name": "python3",
      "display_name": "Python 3"
    },
    "language_info": {
      "name": "python"
    },
    "accelerator": "GPU"
  },
  "cells": [
    {
      "cell_type": "code",
      "execution_count": 2,
      "metadata": {
        "id": "VJ95MSsIr608"
      },
      "outputs": [],
      "source": [
        "import numpy as np\n",
        "import time\n",
        "from numba import cuda\n",
        "import random\n",
        "\n",
        "@cuda.jit\n",
        "def monte_carlo_kernel(x, y, results):\n",
        "    idx = cuda.grid(1)\n",
        "    if idx < x.size:\n",
        "        v = x[idx]**2 + y[idx]**2\n",
        "        results[idx] = 1 if v < 1 else 0\n",
        "\n",
        "def monte_carlo_pi_cpu(N):\n",
        "    start_time = time.time()\n",
        "\n",
        "    # Генерация случайных точек\n",
        "    x = np.random.uniform(0, 1, N)\n",
        "    y = np.random.uniform(0, 1, N)\n",
        "\n",
        "    # Вычисление V = X^2 + Y^2\n",
        "    v = x**2 + y**2\n",
        "\n",
        "    # Подсчет точек внутри круга\n",
        "    inside_circle = np.sum(v < 1)\n",
        "\n",
        "    # Вычисление π\n",
        "    pi_estimate = 4 * inside_circle / N\n",
        "\n",
        "    elapsed_time = time.time() - start_time\n",
        "    return pi_estimate, elapsed_time\n",
        "\n",
        "def monte_carlo_pi_gpu(N):\n",
        "    start_time = time.time()\n",
        "\n",
        "    # Генерация случайных точек без использования cupy\n",
        "    x = np.array([random.uniform(0, 1) for _ in range(N)], dtype=np.float32)\n",
        "    y = np.array([random.uniform(0, 1) for _ in range(N)], dtype=np.float32)\n",
        "\n",
        "    # Копирование данных на GPU\n",
        "    x_device = cuda.to_device(x)\n",
        "    y_device = cuda.to_device(y)\n",
        "    results_device = cuda.device_array(N, dtype=np.int32)\n",
        "\n",
        "    # Определение размеров сетки и блока\n",
        "    threads_per_block = 256\n",
        "    blocks_per_grid = (N + threads_per_block - 1) // threads_per_block\n",
        "\n",
        "    # Запуск CUDA ядра\n",
        "    monte_carlo_kernel[blocks_per_grid, threads_per_block](x_device, y_device, results_device)\n",
        "\n",
        "    # Копирование результатов обратно на CPU\n",
        "    results = results_device.copy_to_host()\n",
        "\n",
        "    # Подсчет точек внутри круга\n",
        "    inside_circle = np.sum(results)\n",
        "\n",
        "    # Вычисление π\n",
        "    pi_estimate = 4 * inside_circle / N\n",
        "\n",
        "    elapsed_time = time.time() - start_time\n",
        "    return pi_estimate, elapsed_time"
      ]
    },
    {
      "cell_type": "code",
      "source": [
        "N = 30\n",
        "# Вычисление на CPU\n",
        "pi_cpu, time_cpu = monte_carlo_pi_cpu(N)\n",
        "print(f\"CPU: π ≈ {pi_cpu} time of work:  {time_cpu:.4f} seconds\")\n",
        "\n",
        "# Вычисление на GPU\n",
        "pi_gpu, time_gpu = monte_carlo_pi_gpu(N)\n",
        "print(f\"GPU: π ≈ {pi_cpu} time of work:  {time_gpu:.4f} seconds\")"
      ],
      "metadata": {
        "colab": {
          "base_uri": "https://localhost:8080/"
        },
        "id": "hp9GBvdktkuJ",
        "outputId": "a6530f7c-0c7f-4673-bc94-21d46b77bbc7"
      },
      "execution_count": 3,
      "outputs": [
        {
          "output_type": "stream",
          "name": "stdout",
          "text": [
            "CPU: π ≈ 3.466666666666667 time of work:  0.0002 seconds\n",
            "GPU: π ≈ 3.466666666666667 time of work:  0.1705 seconds\n"
          ]
        },
        {
          "output_type": "stream",
          "name": "stderr",
          "text": [
            "/usr/local/lib/python3.10/dist-packages/numba/cuda/dispatcher.py:536: NumbaPerformanceWarning: Grid size 1 will likely result in GPU under-utilization due to low occupancy.\n",
            "  warn(NumbaPerformanceWarning(msg))\n"
          ]
        }
      ]
    }
  ]
}